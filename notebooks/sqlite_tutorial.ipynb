{
 "cells": [
  {
   "attachments": {},
   "cell_type": "markdown",
   "metadata": {},
   "source": [
    "# SQLite Tutorial Python Standard Library\n",
    "\n",
    "In this tutorial, you will create a database of Monty Python movies using basic sqlite3 functionality. It assumes a fundamental understanding of database concepts, including [cursors](https://en.wikipedia.org/wiki/Cursor_(databases)) and [transactions](https://en.wikipedia.org/wiki/Database_transaction).\n",
    "\n",
    "First, we need to create a new database and open a database connection to allow sqlite3 to work with it. Call [`sqlite3.connect()`](https://docs.python.org/3/library/sqlite3.html#sqlite3.connect) to create a connection to the database `movies.db` in the current working directory, implicitly creating it if it does not exist:"
   ]
  },
  {
   "cell_type": "code",
   "execution_count": 2,
   "metadata": {},
   "outputs": [],
   "source": [
    "import sqlite3\n",
    "from pathlib import Path"
   ]
  },
  {
   "cell_type": "code",
   "execution_count": 13,
   "metadata": {},
   "outputs": [],
   "source": [
    "db_path = Path('../data') / 'monty_python_movies.db'\n",
    "connection = sqlite3.connect(db_path)"
   ]
  },
  {
   "attachments": {},
   "cell_type": "markdown",
   "metadata": {},
   "source": [
    "The returned Connection object con represents the connection to the on-disk database.\n",
    "\n",
    "In order to execute SQL statements and fetch results from SQL queries, we will need to use a database cursor. Call con.cursor() to create the Cursor:"
   ]
  },
  {
   "cell_type": "code",
   "execution_count": 14,
   "metadata": {},
   "outputs": [],
   "source": [
    "cursor = connection.cursor()"
   ]
  },
  {
   "attachments": {},
   "cell_type": "markdown",
   "metadata": {},
   "source": [
    "Now that we’ve got a database connection and a cursor, we can create a database table movie with columns for title, release year, and review score. For simplicity, we can just use column names in the table declaration – thanks to the [flexible typing](https://www.sqlite.org/flextypegood.html) feature of SQLite, specifying the data types is optional. Execute the CREATE TABLE statement by calling [cur.execute(...)](https://docs.python.org/3/library/sqlite3.html#sqlite3.Cursor.execute):"
   ]
  },
  {
   "cell_type": "code",
   "execution_count": 15,
   "metadata": {},
   "outputs": [
    {
     "data": {
      "text/plain": [
       "<sqlite3.Cursor at 0x2944915f4c0>"
      ]
     },
     "execution_count": 15,
     "metadata": {},
     "output_type": "execute_result"
    }
   ],
   "source": [
    "cursor.execute(\"CREATE TABLE movie(title, year, score)\")"
   ]
  },
  {
   "attachments": {},
   "cell_type": "markdown",
   "metadata": {},
   "source": [
    "We can verify that the new table has been created by querying the sqlite_master table built-in to SQLite, which should now contain an entry for the movie table definition (see [The Schema Table](https://www.sqlite.org/schematab.html) for details). Execute that query by calling [cur.execute(...)](https://docs.python.org/3/library/sqlite3.html#sqlite3.Cursor.execute), assign the result to res, and call [res.fetchone()](https://docs.python.org/3/library/sqlite3.html#sqlite3.Cursor.fetchone) to fetch the resulting row:"
   ]
  },
  {
   "cell_type": "code",
   "execution_count": 16,
   "metadata": {},
   "outputs": [
    {
     "name": "stdout",
     "output_type": "stream",
     "text": [
      "('movie',)\n"
     ]
    }
   ],
   "source": [
    "result = cursor.execute(\"SELECT name FROM sqlite_master\")\n",
    "print(result.fetchone())"
   ]
  },
  {
   "attachments": {},
   "cell_type": "markdown",
   "metadata": {},
   "source": [
    "We can see that the table has been created, as the query returns a tuple containing the table’s name. If we query sqlite_master for a non-existent table spam, [res.fetchone()](https://docs.python.org/3/library/sqlite3.html#sqlite3.Cursor.fetchone) will return None:"
   ]
  },
  {
   "cell_type": "code",
   "execution_count": 17,
   "metadata": {},
   "outputs": [
    {
     "data": {
      "text/plain": [
       "True"
      ]
     },
     "execution_count": 17,
     "metadata": {},
     "output_type": "execute_result"
    }
   ],
   "source": [
    "result = cursor.execute(\"SELECT name FROM sqlite_master WHERE name = 'spam'\")\n",
    "result.fetchone() is None"
   ]
  },
  {
   "attachments": {},
   "cell_type": "markdown",
   "metadata": {},
   "source": [
    "Now, add two rows of data supplied as SQL literals by executing an INSERT statement, once again by calling [cur.execute(...)](https://docs.python.org/3/library/sqlite3.html#sqlite3.Cursor.execute):"
   ]
  },
  {
   "cell_type": "code",
   "execution_count": 18,
   "metadata": {},
   "outputs": [
    {
     "data": {
      "text/plain": [
       "<sqlite3.Cursor at 0x2944915f4c0>"
      ]
     },
     "execution_count": 18,
     "metadata": {},
     "output_type": "execute_result"
    }
   ],
   "source": [
    "cursor.execute(\"\"\"\n",
    "   INSERT INTO movie VALUES\n",
    "        ('Monty Python and the Holy Grail', 1975, 8.2),\n",
    "        ('And Now for Something Completely Different', 1971, 7.5) \n",
    "\"\"\")"
   ]
  },
  {
   "attachments": {},
   "cell_type": "markdown",
   "metadata": {},
   "source": [
    "The INSERT statement implicitly opens a transaction, which needs to be committed before changes are saved in the database (see [Transaction control](https://docs.python.org/3/library/sqlite3.html#sqlite3-controlling-transactions) for details). Call [con.commit()](https://docs.python.org/3/library/sqlite3.html#sqlite3.Connection.commit) on the connection object to commit the transaction:"
   ]
  },
  {
   "cell_type": "code",
   "execution_count": 19,
   "metadata": {},
   "outputs": [],
   "source": [
    "connection.commit()"
   ]
  },
  {
   "attachments": {},
   "cell_type": "markdown",
   "metadata": {},
   "source": [
    "We can verify that the data was inserted correctly by executing a SELECT query. Use the now-familiar [cur.execute(...)](https://docs.python.org/3/library/sqlite3.html#sqlite3.Cursor.execute) to assign the result to res, and call [res.fetchall()](https://docs.python.org/3/library/sqlite3.html#sqlite3.Cursor.fetchall) to return all resulting rows:"
   ]
  },
  {
   "cell_type": "code",
   "execution_count": 20,
   "metadata": {},
   "outputs": [
    {
     "data": {
      "text/plain": [
       "[(8.2,), (7.5,)]"
      ]
     },
     "execution_count": 20,
     "metadata": {},
     "output_type": "execute_result"
    }
   ],
   "source": [
    "result = cursor.execute(\"SELECT score FROM movie\")\n",
    "result.fetchall()"
   ]
  },
  {
   "attachments": {},
   "cell_type": "markdown",
   "metadata": {},
   "source": [
    "The result is a list of two tuples, one per row, each containing that row’s score value.\n",
    "\n",
    "Now, insert three more rows by calling [cur.executemany(...)](https://docs.python.org/3/library/sqlite3.html#sqlite3.Cursor.executemany):"
   ]
  },
  {
   "cell_type": "code",
   "execution_count": 21,
   "metadata": {},
   "outputs": [],
   "source": [
    "data = [\n",
    "    (\"Monty Python Live at the Hollywood Bowl\", 1982, 7.9),\n",
    "    (\"Monty Python's The Meaning of Life\", 1983, 7.5),\n",
    "    (\"Monty Python's Life of Brian\", 1979, 8.0),\n",
    "]\n",
    "cursor.executemany(\"INSERT INTO movie VALUES(?, ?, ?)\", data)\n",
    "connection.commit() # Remember to commit the transaction after executing INSERT."
   ]
  },
  {
   "attachments": {},
   "cell_type": "markdown",
   "metadata": {},
   "source": [
    "Notice that ? placeholders are used to bind data to the query. Always use placeholders instead of [string formatting](https://docs.python.org/3/tutorial/inputoutput.html#tut-formatting) to bind Python values to SQL statements, to avoid [SQL injection attacks](https://en.wikipedia.org/wiki/SQL_injection) (see [How to use placeholders to bind values in SQL queries](https://docs.python.org/3/library/sqlite3.html#sqlite3-placeholders) for more details).\n",
    "\n",
    "We can verify that the new rows were inserted by executing a SELECT query, this time iterating over the results of the query:"
   ]
  },
  {
   "cell_type": "code",
   "execution_count": 22,
   "metadata": {},
   "outputs": [
    {
     "name": "stdout",
     "output_type": "stream",
     "text": [
      "(1971, 'And Now for Something Completely Different')\n",
      "(1975, 'Monty Python and the Holy Grail')\n",
      "(1979, \"Monty Python's Life of Brian\")\n",
      "(1982, 'Monty Python Live at the Hollywood Bowl')\n",
      "(1983, \"Monty Python's The Meaning of Life\")\n"
     ]
    }
   ],
   "source": [
    "for row in cursor.execute(\"SELECT year, title FROM movie ORDER BY year\"):\n",
    "    print(row)"
   ]
  },
  {
   "cell_type": "code",
   "execution_count": 23,
   "metadata": {},
   "outputs": [
    {
     "name": "stdout",
     "output_type": "stream",
     "text": [
      "The highest scoring Monty Python movie is 'Monty Python and the Holy Grail', released in 1975\n"
     ]
    }
   ],
   "source": [
    "connection.close()\n",
    "new_connection = sqlite3.connect(db_path)\n",
    "new_cursor = new_connection.cursor()\n",
    "result = new_cursor.execute(\"SELECT title, year FROM movie ORDER BY score DESC\")\n",
    "title, year = result.fetchone()\n",
    "print(f\"The highest scoring Monty Python movie is {title!r}, released in {year}\")"
   ]
  },
  {
   "cell_type": "code",
   "execution_count": 24,
   "metadata": {},
   "outputs": [],
   "source": [
    "new_connection.close()"
   ]
  },
  {
   "attachments": {},
   "cell_type": "markdown",
   "metadata": {},
   "source": [
    "You’ve now created an SQLite database using the sqlite3 module, inserted data and retrieved values from it in multiple ways."
   ]
  }
 ],
 "metadata": {
  "kernelspec": {
   "display_name": "tutorial",
   "language": "python",
   "name": "python3"
  },
  "language_info": {
   "codemirror_mode": {
    "name": "ipython",
    "version": 3
   },
   "file_extension": ".py",
   "mimetype": "text/x-python",
   "name": "python",
   "nbconvert_exporter": "python",
   "pygments_lexer": "ipython3",
   "version": "3.11.3"
  },
  "orig_nbformat": 4
 },
 "nbformat": 4,
 "nbformat_minor": 2
}
